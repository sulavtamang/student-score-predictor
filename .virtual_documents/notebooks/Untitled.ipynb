!pip list


import matplotlib.pyplot as plt


!pip uninstall matplotlib



